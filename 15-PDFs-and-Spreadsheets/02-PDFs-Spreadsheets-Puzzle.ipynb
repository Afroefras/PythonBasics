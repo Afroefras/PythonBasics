{
 "cells": [
  {
   "cell_type": "markdown",
   "metadata": {},
   "source": [
    "___\n",
    "\n",
    "<a href='https://www.udemy.com/user/joseportilla/'><img src='../Pierian_Data_Logo.png'/></a>\n",
    "___\n",
    "<center><em>Content Copyright by Pierian Data</em></center>"
   ]
  },
  {
   "cell_type": "markdown",
   "metadata": {},
   "source": [
    "# PDFs and Spreadsheets Puzzle Exercise\n",
    "\n",
    "Let's test your skills, the files needed for this puzzle exercise\n",
    "\n",
    "You will need to work with two files for this exercise and solve the following tasks:\n",
    "\n",
    "* Task One: Use Python to extract the Google Drive link from the .csv file. (Hint: Its along the diagonal from top left to bottom right).\n",
    "* Task Two: Download the PDF from the Google Drive link (we already downloaded it for you just in case you can't download from Google Drive) and find the phone number that is in the document. Note: There are different ways of formatting a phone number!"
   ]
  },
  {
   "cell_type": "markdown",
   "metadata": {},
   "source": [
    "## Task One: Grab the Google Drive Link from .csv File"
   ]
  },
  {
   "cell_type": "code",
   "execution_count": 1,
   "metadata": {
    "ExecuteTime": {
     "end_time": "2020-12-31T23:21:22.772279Z",
     "start_time": "2020-12-31T23:21:22.370140Z"
    }
   },
   "outputs": [
    {
     "data": {
      "text/plain": [
       "(66, 66)"
      ]
     },
     "metadata": {},
     "output_type": "display_data"
    },
    {
     "data": {
      "text/html": [
       "<div>\n",
       "<style scoped>\n",
       "    .dataframe tbody tr th:only-of-type {\n",
       "        vertical-align: middle;\n",
       "    }\n",
       "\n",
       "    .dataframe tbody tr th {\n",
       "        vertical-align: top;\n",
       "    }\n",
       "\n",
       "    .dataframe thead th {\n",
       "        text-align: right;\n",
       "    }\n",
       "</style>\n",
       "<table border=\"1\" class=\"dataframe\">\n",
       "  <thead>\n",
       "    <tr style=\"text-align: right;\">\n",
       "      <th></th>\n",
       "      <th>0</th>\n",
       "      <th>1</th>\n",
       "      <th>2</th>\n",
       "      <th>3</th>\n",
       "      <th>4</th>\n",
       "      <th>5</th>\n",
       "      <th>6</th>\n",
       "      <th>7</th>\n",
       "      <th>8</th>\n",
       "      <th>9</th>\n",
       "      <th>...</th>\n",
       "      <th>56</th>\n",
       "      <th>57</th>\n",
       "      <th>58</th>\n",
       "      <th>59</th>\n",
       "      <th>60</th>\n",
       "      <th>61</th>\n",
       "      <th>62</th>\n",
       "      <th>63</th>\n",
       "      <th>64</th>\n",
       "      <th>65</th>\n",
       "    </tr>\n",
       "  </thead>\n",
       "  <tbody>\n",
       "    <tr>\n",
       "      <th>0</th>\n",
       "      <td>h</td>\n",
       "      <td>53</td>\n",
       "      <td>24</td>\n",
       "      <td>46</td>\n",
       "      <td>4</td>\n",
       "      <td>11</td>\n",
       "      <td>3</td>\n",
       "      <td>35</td>\n",
       "      <td>17</td>\n",
       "      <td>52</td>\n",
       "      <td>...</td>\n",
       "      <td>49</td>\n",
       "      <td>5</td>\n",
       "      <td>17</td>\n",
       "      <td>21</td>\n",
       "      <td>36</td>\n",
       "      <td>63</td>\n",
       "      <td>38</td>\n",
       "      <td>24</td>\n",
       "      <td>3</td>\n",
       "      <td>99</td>\n",
       "    </tr>\n",
       "    <tr>\n",
       "      <th>1</th>\n",
       "      <td>85</td>\n",
       "      <td>t</td>\n",
       "      <td>31</td>\n",
       "      <td>54</td>\n",
       "      <td>60</td>\n",
       "      <td>22</td>\n",
       "      <td>77</td>\n",
       "      <td>39</td>\n",
       "      <td>93</td>\n",
       "      <td>38</td>\n",
       "      <td>...</td>\n",
       "      <td>94</td>\n",
       "      <td>23</td>\n",
       "      <td>14</td>\n",
       "      <td>79</td>\n",
       "      <td>24</td>\n",
       "      <td>27</td>\n",
       "      <td>90</td>\n",
       "      <td>40</td>\n",
       "      <td>27</td>\n",
       "      <td>8</td>\n",
       "    </tr>\n",
       "    <tr>\n",
       "      <th>2</th>\n",
       "      <td>22</td>\n",
       "      <td>98</td>\n",
       "      <td>t</td>\n",
       "      <td>83</td>\n",
       "      <td>33</td>\n",
       "      <td>53</td>\n",
       "      <td>66</td>\n",
       "      <td>13</td>\n",
       "      <td>81</td>\n",
       "      <td>53</td>\n",
       "      <td>...</td>\n",
       "      <td>89</td>\n",
       "      <td>81</td>\n",
       "      <td>33</td>\n",
       "      <td>70</td>\n",
       "      <td>42</td>\n",
       "      <td>5</td>\n",
       "      <td>31</td>\n",
       "      <td>42</td>\n",
       "      <td>45</td>\n",
       "      <td>42</td>\n",
       "    </tr>\n",
       "    <tr>\n",
       "      <th>3</th>\n",
       "      <td>11</td>\n",
       "      <td>58</td>\n",
       "      <td>4</td>\n",
       "      <td>p</td>\n",
       "      <td>59</td>\n",
       "      <td>85</td>\n",
       "      <td>97</td>\n",
       "      <td>35</td>\n",
       "      <td>11</td>\n",
       "      <td>78</td>\n",
       "      <td>...</td>\n",
       "      <td>81</td>\n",
       "      <td>73</td>\n",
       "      <td>13</td>\n",
       "      <td>75</td>\n",
       "      <td>21</td>\n",
       "      <td>13</td>\n",
       "      <td>15</td>\n",
       "      <td>85</td>\n",
       "      <td>71</td>\n",
       "      <td>36</td>\n",
       "    </tr>\n",
       "    <tr>\n",
       "      <th>4</th>\n",
       "      <td>0</td>\n",
       "      <td>15</td>\n",
       "      <td>8</td>\n",
       "      <td>77</td>\n",
       "      <td>s</td>\n",
       "      <td>90</td>\n",
       "      <td>42</td>\n",
       "      <td>25</td>\n",
       "      <td>38</td>\n",
       "      <td>93</td>\n",
       "      <td>...</td>\n",
       "      <td>55</td>\n",
       "      <td>53</td>\n",
       "      <td>5</td>\n",
       "      <td>91</td>\n",
       "      <td>30</td>\n",
       "      <td>14</td>\n",
       "      <td>62</td>\n",
       "      <td>27</td>\n",
       "      <td>27</td>\n",
       "      <td>33</td>\n",
       "    </tr>\n",
       "    <tr>\n",
       "      <th>...</th>\n",
       "      <td>...</td>\n",
       "      <td>...</td>\n",
       "      <td>...</td>\n",
       "      <td>...</td>\n",
       "      <td>...</td>\n",
       "      <td>...</td>\n",
       "      <td>...</td>\n",
       "      <td>...</td>\n",
       "      <td>...</td>\n",
       "      <td>...</td>\n",
       "      <td>...</td>\n",
       "      <td>...</td>\n",
       "      <td>...</td>\n",
       "      <td>...</td>\n",
       "      <td>...</td>\n",
       "      <td>...</td>\n",
       "      <td>...</td>\n",
       "      <td>...</td>\n",
       "      <td>...</td>\n",
       "      <td>...</td>\n",
       "      <td>...</td>\n",
       "    </tr>\n",
       "    <tr>\n",
       "      <th>61</th>\n",
       "      <td>70</td>\n",
       "      <td>15</td>\n",
       "      <td>70</td>\n",
       "      <td>62</td>\n",
       "      <td>65</td>\n",
       "      <td>32</td>\n",
       "      <td>53</td>\n",
       "      <td>3</td>\n",
       "      <td>22</td>\n",
       "      <td>57</td>\n",
       "      <td>...</td>\n",
       "      <td>91</td>\n",
       "      <td>87</td>\n",
       "      <td>85</td>\n",
       "      <td>40</td>\n",
       "      <td>13</td>\n",
       "      <td>i</td>\n",
       "      <td>60</td>\n",
       "      <td>44</td>\n",
       "      <td>35</td>\n",
       "      <td>92</td>\n",
       "    </tr>\n",
       "    <tr>\n",
       "      <th>62</th>\n",
       "      <td>29</td>\n",
       "      <td>65</td>\n",
       "      <td>93</td>\n",
       "      <td>3</td>\n",
       "      <td>73</td>\n",
       "      <td>70</td>\n",
       "      <td>63</td>\n",
       "      <td>28</td>\n",
       "      <td>44</td>\n",
       "      <td>87</td>\n",
       "      <td>...</td>\n",
       "      <td>79</td>\n",
       "      <td>39</td>\n",
       "      <td>52</td>\n",
       "      <td>27</td>\n",
       "      <td>84</td>\n",
       "      <td>44</td>\n",
       "      <td>p</td>\n",
       "      <td>84</td>\n",
       "      <td>49</td>\n",
       "      <td>78</td>\n",
       "    </tr>\n",
       "    <tr>\n",
       "      <th>63</th>\n",
       "      <td>77</td>\n",
       "      <td>98</td>\n",
       "      <td>39</td>\n",
       "      <td>6</td>\n",
       "      <td>26</td>\n",
       "      <td>16</td>\n",
       "      <td>86</td>\n",
       "      <td>11</td>\n",
       "      <td>24</td>\n",
       "      <td>88</td>\n",
       "      <td>...</td>\n",
       "      <td>95</td>\n",
       "      <td>19</td>\n",
       "      <td>99</td>\n",
       "      <td>16</td>\n",
       "      <td>2</td>\n",
       "      <td>71</td>\n",
       "      <td>32</td>\n",
       "      <td>r</td>\n",
       "      <td>30</td>\n",
       "      <td>65</td>\n",
       "    </tr>\n",
       "    <tr>\n",
       "      <th>64</th>\n",
       "      <td>52</td>\n",
       "      <td>38</td>\n",
       "      <td>49</td>\n",
       "      <td>63</td>\n",
       "      <td>33</td>\n",
       "      <td>37</td>\n",
       "      <td>18</td>\n",
       "      <td>60</td>\n",
       "      <td>99</td>\n",
       "      <td>27</td>\n",
       "      <td>...</td>\n",
       "      <td>17</td>\n",
       "      <td>33</td>\n",
       "      <td>71</td>\n",
       "      <td>60</td>\n",
       "      <td>50</td>\n",
       "      <td>84</td>\n",
       "      <td>14</td>\n",
       "      <td>64</td>\n",
       "      <td>4</td>\n",
       "      <td>23</td>\n",
       "    </tr>\n",
       "    <tr>\n",
       "      <th>65</th>\n",
       "      <td>51</td>\n",
       "      <td>70</td>\n",
       "      <td>63</td>\n",
       "      <td>34</td>\n",
       "      <td>84</td>\n",
       "      <td>97</td>\n",
       "      <td>80</td>\n",
       "      <td>31</td>\n",
       "      <td>41</td>\n",
       "      <td>82</td>\n",
       "      <td>...</td>\n",
       "      <td>63</td>\n",
       "      <td>12</td>\n",
       "      <td>18</td>\n",
       "      <td>63</td>\n",
       "      <td>55</td>\n",
       "      <td>2</td>\n",
       "      <td>0</td>\n",
       "      <td>58</td>\n",
       "      <td>25</td>\n",
       "      <td>Q</td>\n",
       "    </tr>\n",
       "  </tbody>\n",
       "</table>\n",
       "<p>66 rows × 66 columns</p>\n",
       "</div>"
      ],
      "text/plain": [
       "    0   1   2   3   4   5   6   7   8   9   ...  56  57  58  59  60  61  62  \\\n",
       "0    h  53  24  46   4  11   3  35  17  52  ...  49   5  17  21  36  63  38   \n",
       "1   85   t  31  54  60  22  77  39  93  38  ...  94  23  14  79  24  27  90   \n",
       "2   22  98   t  83  33  53  66  13  81  53  ...  89  81  33  70  42   5  31   \n",
       "3   11  58   4   p  59  85  97  35  11  78  ...  81  73  13  75  21  13  15   \n",
       "4    0  15   8  77   s  90  42  25  38  93  ...  55  53   5  91  30  14  62   \n",
       "..  ..  ..  ..  ..  ..  ..  ..  ..  ..  ..  ...  ..  ..  ..  ..  ..  ..  ..   \n",
       "61  70  15  70  62  65  32  53   3  22  57  ...  91  87  85  40  13   i  60   \n",
       "62  29  65  93   3  73  70  63  28  44  87  ...  79  39  52  27  84  44   p   \n",
       "63  77  98  39   6  26  16  86  11  24  88  ...  95  19  99  16   2  71  32   \n",
       "64  52  38  49  63  33  37  18  60  99  27  ...  17  33  71  60  50  84  14   \n",
       "65  51  70  63  34  84  97  80  31  41  82  ...  63  12  18  63  55   2   0   \n",
       "\n",
       "    63  64  65  \n",
       "0   24   3  99  \n",
       "1   40  27   8  \n",
       "2   42  45  42  \n",
       "3   85  71  36  \n",
       "4   27  27  33  \n",
       "..  ..  ..  ..  \n",
       "61  44  35  92  \n",
       "62  84  49  78  \n",
       "63   r  30  65  \n",
       "64  64   4  23  \n",
       "65  58  25   Q  \n",
       "\n",
       "[66 rows x 66 columns]"
      ]
     },
     "execution_count": 1,
     "metadata": {},
     "output_type": "execute_result"
    }
   ],
   "source": [
    "import os\n",
    "import pandas as pd\n",
    "df = pd.read_csv(os.getcwd() + '/Exercise_Files/find_the_link.csv', header = None)\n",
    "display(df.shape)\n",
    "df"
   ]
  },
  {
   "cell_type": "code",
   "execution_count": 2,
   "metadata": {
    "ExecuteTime": {
     "end_time": "2020-12-31T23:21:22.792847Z",
     "start_time": "2020-12-31T23:21:22.775115Z"
    }
   },
   "outputs": [
    {
     "data": {
      "text/plain": [
       "'https://drive.google.com/open?id=1G6SEgg018UB4_4xsAJJ5TdzrhmXipr4Q'"
      ]
     },
     "execution_count": 2,
     "metadata": {},
     "output_type": "execute_result"
    }
   ],
   "source": [
    "import numpy as np\n",
    "df = df.astype(str)\n",
    "np.trace(df)"
   ]
  },
  {
   "cell_type": "markdown",
   "metadata": {},
   "source": [
    "## Task Two: Download the PDF from the Google Drive link and find the phone number that is in the document. "
   ]
  },
  {
   "cell_type": "code",
   "execution_count": 3,
   "metadata": {
    "ExecuteTime": {
     "end_time": "2020-12-31T23:21:23.747915Z",
     "start_time": "2020-12-31T23:21:22.796842Z"
    }
   },
   "outputs": [
    {
     "data": {
      "text/plain": [
       "\"Business Deliverables\\n \\n \\n \\nStaff engagement touch base yet can I just chime in on that one draw a line in the sand \\nthis proposal is a win\\n-\\nwin situation which will cause a stellar paradigm shift, and \\nproduce a multi\\n-\\nfold increase in deliverables but \\nfuture\\n-\\nproof. I dont care if you got some \\ncopy, why you dont use officeipsumcom or something like that ? low\\n-\\nhanging fruit beef \\nup, and optimize for search or we need to leverage our synergies. We need to make the \\nnew version clean and sexy bells and whist\\nles, so meeting assassin, and execute . \\nBaseline the procedure and samepage your department push back yet strategic high\\n-\\nlevel 30,000 ft view powerPointless, but deliverables nor circle back. Paddle on both \\nsides conversational content win\\n-\\nwin\\n-\\nwin nor pig \\nin a python overcome key issues to \\nmeet key milestones. Personal development crisp ppt deep dive. Can we parallel path \\nblue sky and this proposal is a win\\n-\\nwin situation which will cause a stellar paradigm \\nshift, and produce a multi\\n-\\nfold increase in deliver\\nables. Where the metal hits the meat \\nhorsehead offer. Onward and upward, productize the deliverables and focus on the \\n\\nknowledge process outsourcing. Slow\\n-\\nwalk our commitmen\\nt synergize productive \\nmindfulness so high turnaround rate we need to harvest synergy effects. Who's the goto \\non this job with the way forward tbrand terrorists. Your work on this project has been \\nreally impactful. Pushback quantity shoot me an email so si\\nngle wringable neck hit the \\n\\n\\nPerformance review let's not solutionize this right now parkin\\ng lot it so win\\n-\\nwin\\n-\\nwin and \\nfast track gain traction. At the end of the day player\\n-\\ncoach nor we need to leverage our \\nsynergies. Can we take this offline vec we've bootstrapped the model nor feature creep.\\n \\n \\n \\nChurning anomalies. Face time. Are we in agreeanc\\ne 60% to 30% is a lot of persent no \\nscraps hit the floor, nor critical mass. Can you run this by clearance? hot johnny coming \\nthrough . This proposal is a win\\n-\\nwin situation which will cause a stellar paradigm shift, \\nand produce a multi\\n-\\nfold increase in del\\niverables we need to aspirationalise our \\nofferings so this vendor is incompetent , nor organic growth. Dog and pony show. Turn \\nthe ship. If you want to motivate these clowns, try less carrot and more stick imagineer, \\nbut product market fit and we need to c\\nrystallize a plan pro\\n-\\nsumer software for strategic \\nfit programmatically.\\n \\n \\n \\n\""
      ]
     },
     "execution_count": 3,
     "metadata": {},
     "output_type": "execute_result"
    }
   ],
   "source": [
    "import PyPDF2\n",
    "pdf_reader = PyPDF2.PdfFileReader(open(os.getcwd() + '/Exercise_Files/Find_the_Phone_Number.pdf','rb'))\n",
    "pdf_text = []\n",
    "for p in range(pdf_reader.numPages):  \n",
    "    page = pdf_reader.getPage(p)\n",
    "    pdf_text.append(page.extractText())\n",
    "pdf_text[0]"
   ]
  },
  {
   "cell_type": "code",
   "execution_count": 4,
   "metadata": {
    "ExecuteTime": {
     "end_time": "2020-12-31T23:21:23.776914Z",
     "start_time": "2020-12-31T23:21:23.757256Z"
    }
   },
   "outputs": [
    {
     "data": {
      "text/plain": [
       "['505.503.4455']"
      ]
     },
     "execution_count": 4,
     "metadata": {},
     "output_type": "execute_result"
    }
   ],
   "source": [
    "import re\n",
    "telephone = []\n",
    "for page in pdf_text:\n",
    "    telephone.extend(re.findall(r'\\d{3}.\\d{3}.\\d{4}', page))\n",
    "    \n",
    "telephone"
   ]
  }
 ],
 "metadata": {
  "anaconda-cloud": {},
  "kernelspec": {
   "display_name": "Python 3",
   "language": "python",
   "name": "python3"
  },
  "language_info": {
   "codemirror_mode": {
    "name": "ipython",
    "version": 3
   },
   "file_extension": ".py",
   "mimetype": "text/x-python",
   "name": "python",
   "nbconvert_exporter": "python",
   "pygments_lexer": "ipython3",
   "version": "3.8.5"
  },
  "toc": {
   "base_numbering": 1,
   "nav_menu": {},
   "number_sections": true,
   "sideBar": true,
   "skip_h1_title": true,
   "title_cell": "Table of Contents",
   "title_sidebar": "Contents",
   "toc_cell": false,
   "toc_position": {},
   "toc_section_display": true,
   "toc_window_display": false
  },
  "varInspector": {
   "cols": {
    "lenName": 16,
    "lenType": 16,
    "lenVar": 40
   },
   "kernels_config": {
    "python": {
     "delete_cmd_postfix": "",
     "delete_cmd_prefix": "del ",
     "library": "var_list.py",
     "varRefreshCmd": "print(var_dic_list())"
    },
    "r": {
     "delete_cmd_postfix": ") ",
     "delete_cmd_prefix": "rm(",
     "library": "var_list.r",
     "varRefreshCmd": "cat(var_dic_list()) "
    }
   },
   "types_to_exclude": [
    "module",
    "function",
    "builtin_function_or_method",
    "instance",
    "_Feature"
   ],
   "window_display": false
  }
 },
 "nbformat": 4,
 "nbformat_minor": 2
}
