{
 "cells": [
  {
   "cell_type": "markdown",
   "metadata": {},
   "source": [
    "___\n",
    "\n",
    "<a href='https://www.udemy.com/user/joseportilla/'><img src='../../Pierian_Data_Logo.png'/></a>\n",
    "___\n",
    "<center><em>Content Copyright by Pierian Data</em></center>"
   ]
  },
  {
   "cell_type": "markdown",
   "metadata": {},
   "source": [
    "# Advanced Modules Exercise Puzzle\n",
    "\n",
    "It's time to test your new skills, this puzzle project will combine multiple skills sets, including unzipping files with Python, using os module to automatically search through lots of files.\n",
    "\n",
    "## Your Goal\n",
    "\n",
    "This is a puzzle, so we don't want to give you too much guidance and instead have you figure out things on your own.\n",
    "\n",
    "There is a .zip file called 'unzip_me_for_instructions.zip', unzip it, open the .txt file with Python, read the instructions and see if you can figure out what you need to do!\n",
    "\n",
    "**If you get stuck or don't know where to start, here is a [guide/hints](https://docs.google.com/document/d/1JxydUr4n4fSR0EwwuwT-aHia-yPK6r-oTBuVT2sqheo/edit?usp=sharing)**"
   ]
  },
  {
   "cell_type": "code",
   "execution_count": 1,
   "metadata": {
    "ExecuteTime": {
     "end_time": "2020-12-31T18:31:43.510834Z",
     "start_time": "2020-12-31T18:31:43.423041Z"
    }
   },
   "outputs": [
    {
     "name": "stdout",
     "output_type": "stream",
     "text": [
      "Good work on unzipping the file!\n",
      "You should now see 5 folders, each with a lot of random .txt files.\n",
      "Within one of these text files is a telephone number formated ###-###-#### \n",
      "Use the Python os module and regular expressions to iterate through each file, open it, and search for a telephone number.\n",
      "Good luck!\n"
     ]
    }
   ],
   "source": [
    "import shutil\n",
    "shutil.unpack_archive('unzip_me_for_instructions.zip','','zip')\n",
    "with open('extracted_content/Instructions.txt') as f:\n",
    "    content = f.read()\n",
    "    print(content)"
   ]
  },
  {
   "cell_type": "code",
   "execution_count": 2,
   "metadata": {
    "ExecuteTime": {
     "end_time": "2020-12-31T18:31:43.538226Z",
     "start_time": "2020-12-31T18:31:43.513215Z"
    }
   },
   "outputs": [
    {
     "data": {
      "text/plain": [
       "['/home/ef/Desktop/learn_python/python/Bootcamp/12-Advanced Python Modules/08-Advanced-Python-Module-Exercise/extracted_content/Five',\n",
       " '/home/ef/Desktop/learn_python/python/Bootcamp/12-Advanced Python Modules/08-Advanced-Python-Module-Exercise/extracted_content/Four',\n",
       " '/home/ef/Desktop/learn_python/python/Bootcamp/12-Advanced Python Modules/08-Advanced-Python-Module-Exercise/extracted_content/One',\n",
       " '/home/ef/Desktop/learn_python/python/Bootcamp/12-Advanced Python Modules/08-Advanced-Python-Module-Exercise/extracted_content/Three',\n",
       " '/home/ef/Desktop/learn_python/python/Bootcamp/12-Advanced Python Modules/08-Advanced-Python-Module-Exercise/extracted_content/Two']"
      ]
     },
     "execution_count": 2,
     "metadata": {},
     "output_type": "execute_result"
    }
   ],
   "source": [
    "import os\n",
    "liga = os.getcwd() + '/extracted_content'\n",
    "folders = os.listdir(liga)\n",
    "folders = [liga + '/' + x for x in folders if x not in ['Instructions.txt']]\n",
    "folders"
   ]
  },
  {
   "cell_type": "code",
   "execution_count": 3,
   "metadata": {
    "ExecuteTime": {
     "end_time": "2020-12-31T18:31:43.584221Z",
     "start_time": "2020-12-31T18:31:43.545484Z"
    }
   },
   "outputs": [
    {
     "name": "stdout",
     "output_type": "stream",
     "text": [
      "719-266-2837 dentro de la carpeta Four en el archivo #6 con nombre EMTGPSXQEJX.txt\n"
     ]
    }
   ],
   "source": [
    "import re\n",
    "for folder in folders:\n",
    "    folder_abr = re.findall(r'\\w+$', folder)[0]\n",
    "    for i,file in enumerate(os.listdir(folder)):\n",
    "        with open(folder + '/' + file) as f:\n",
    "            content = f.read()\n",
    "        telephone = re.findall(r'\\d{3}-\\d{3}-\\d{4}', content)\n",
    "        if len(telephone) > 0:\n",
    "            print(f'{telephone[0]} dentro de la carpeta {folder_abr} en el archivo #{i} con nombre {file}')\n",
    "            break"
   ]
  }
 ],
 "metadata": {
  "anaconda-cloud": {},
  "kernelspec": {
   "display_name": "Python 3",
   "language": "python",
   "name": "python3"
  },
  "language_info": {
   "codemirror_mode": {
    "name": "ipython",
    "version": 3
   },
   "file_extension": ".py",
   "mimetype": "text/x-python",
   "name": "python",
   "nbconvert_exporter": "python",
   "pygments_lexer": "ipython3",
   "version": "3.8.5"
  },
  "toc": {
   "base_numbering": 1,
   "nav_menu": {},
   "number_sections": true,
   "sideBar": true,
   "skip_h1_title": true,
   "title_cell": "Table of Contents",
   "title_sidebar": "Contents",
   "toc_cell": false,
   "toc_position": {},
   "toc_section_display": true,
   "toc_window_display": false
  },
  "varInspector": {
   "cols": {
    "lenName": 16,
    "lenType": 16,
    "lenVar": 40
   },
   "kernels_config": {
    "python": {
     "delete_cmd_postfix": "",
     "delete_cmd_prefix": "del ",
     "library": "var_list.py",
     "varRefreshCmd": "print(var_dic_list())"
    },
    "r": {
     "delete_cmd_postfix": ") ",
     "delete_cmd_prefix": "rm(",
     "library": "var_list.r",
     "varRefreshCmd": "cat(var_dic_list()) "
    }
   },
   "types_to_exclude": [
    "module",
    "function",
    "builtin_function_or_method",
    "instance",
    "_Feature"
   ],
   "window_display": false
  }
 },
 "nbformat": 4,
 "nbformat_minor": 2
}
